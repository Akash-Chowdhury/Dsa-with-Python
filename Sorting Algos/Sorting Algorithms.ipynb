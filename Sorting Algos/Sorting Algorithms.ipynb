{
 "cells": [
  {
   "cell_type": "code",
   "execution_count": 2,
   "id": "58baf567",
   "metadata": {},
   "outputs": [
    {
     "name": "stdout",
     "output_type": "stream",
     "text": [
      "Sorted array is:  [5, 15, 20, 30, 50, 70, 90]\n"
     ]
    }
   ],
   "source": [
    "## Bubble sort:\n",
    "\n",
    "\n",
    "def bubbleSort(arr):\n",
    "    n=len(arr)\n",
    "    for i in range(0,n):\n",
    "        for j in range(0,n-1-i):\n",
    "            if arr[j]>arr[j+1]:\n",
    "                arr[j], arr[j+1]=arr[j+1], arr[j]\n",
    "    return arr\n",
    "\n",
    "## Driver code\n",
    "arr=[70,20,90,50,30,5,15]\n",
    "result=bubbleSort(arr)\n",
    "print(\"Sorted array is: \",result)"
   ]
  },
  {
   "cell_type": "code",
   "execution_count": 11,
   "id": "93399a73",
   "metadata": {},
   "outputs": [
    {
     "name": "stdout",
     "output_type": "stream",
     "text": [
      "Sorted array is:  [5, 15, 20, 30, 50, 70, 90]\n"
     ]
    }
   ],
   "source": [
    "## Selection sort:\n",
    "\n",
    "\n",
    "def selectionSort(arr):\n",
    "    n=len(arr)  \n",
    "    for i in range(0,n):\n",
    "        min_idx=i\n",
    "        for j in range(i+1,n):\n",
    "            if arr[j] < arr[min_idx]:\n",
    "                min_idx=j\n",
    "        arr[i],arr[min_idx]=arr[min_idx],arr[i]\n",
    "    return arr\n",
    "\n",
    "\n",
    "## Driver code\n",
    "arr=[70,20,90,50,30,5,15]\n",
    "result=selectionSort(arr)\n",
    "print(\"Sorted array is: \",result)"
   ]
  },
  {
   "cell_type": "code",
   "execution_count": 5,
   "id": "8e2e3280",
   "metadata": {},
   "outputs": [
    {
     "name": "stdout",
     "output_type": "stream",
     "text": [
      "Sorted array is:  [5, 15, 20, 30, 50, 70, 90]\n"
     ]
    }
   ],
   "source": [
    "## Insertion sort\n",
    "\n",
    "\n",
    "\n",
    "def insertionSort(arr):\n",
    "    for i in range(1,len(arr)):\n",
    "        key=arr[i]\n",
    "        j=i-1\n",
    "        while j>=0 and key<arr[j]:\n",
    "            arr[j+1]=arr[j]\n",
    "            j-=1\n",
    "        arr[j+1]=key\n",
    "    return arr\n",
    "\n",
    "\n",
    "## Driver code\n",
    "arr=[70,20,90,50,30,5,15]\n",
    "result=insertionSort(arr)\n",
    "print(\"Sorted array is: \",result)"
   ]
  },
  {
   "cell_type": "code",
   "execution_count": null,
   "id": "63b9eb51",
   "metadata": {},
   "outputs": [],
   "source": []
  },
  {
   "cell_type": "code",
   "execution_count": null,
   "id": "67a6bdef",
   "metadata": {},
   "outputs": [],
   "source": []
  }
 ],
 "metadata": {
  "kernelspec": {
   "display_name": "Python 3 (ipykernel)",
   "language": "python",
   "name": "python3"
  },
  "language_info": {
   "codemirror_mode": {
    "name": "ipython",
    "version": 3
   },
   "file_extension": ".py",
   "mimetype": "text/x-python",
   "name": "python",
   "nbconvert_exporter": "python",
   "pygments_lexer": "ipython3",
   "version": "3.9.13"
  }
 },
 "nbformat": 4,
 "nbformat_minor": 5
}
